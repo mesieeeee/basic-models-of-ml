{
  "nbformat": 4,
  "nbformat_minor": 0,
  "metadata": {
    "colab": {
      "provenance": [],
      "authorship_tag": "ABX9TyNMTGy8pqJeiyXK6apiRlB/",
      "include_colab_link": true
    },
    "kernelspec": {
      "name": "python3",
      "display_name": "Python 3"
    },
    "language_info": {
      "name": "python"
    }
  },
  "cells": [
    {
      "cell_type": "markdown",
      "metadata": {
        "id": "view-in-github",
        "colab_type": "text"
      },
      "source": [
        "<a href=\"https://colab.research.google.com/github/mesieeeee/basic-models-of-ml/blob/main/Untitled15.ipynb\" target=\"_parent\"><img src=\"https://colab.research.google.com/assets/colab-badge.svg\" alt=\"Open In Colab\"/></a>"
      ]
    },
    {
      "cell_type": "code",
      "execution_count": 1,
      "metadata": {
        "id": "t_sj_1gSpouV"
      },
      "outputs": [],
      "source": [
        "#regular expressions regex"
      ]
    },
    {
      "cell_type": "code",
      "source": [
        "import re\n",
        "s = 'geeksforgeeks: a computer science portal for geeks'\n",
        "match = re.search(r'portal', s)\n",
        "print('startindex:', match.start())\n",
        "print('endindex:', match.end())"
      ],
      "metadata": {
        "colab": {
          "base_uri": "https://localhost:8080/"
        },
        "id": "kG6Vcszopr52",
        "outputId": "b6cdeafd-e6b5-482a-e19f-fb20ecaf1aff"
      },
      "execution_count": 2,
      "outputs": [
        {
          "output_type": "stream",
          "name": "stdout",
          "text": [
            "startindex: 34\n",
            "endindex: 40\n"
          ]
        }
      ]
    },
    {
      "cell_type": "code",
      "source": [
        "match = re.search(r'.',s)\n",
        "print(match)"
      ],
      "metadata": {
        "colab": {
          "base_uri": "https://localhost:8080/"
        },
        "id": "kK_8ixmXqNiA",
        "outputId": "f7c876a6-e8f3-4cec-92cd-80026ad6fa66"
      },
      "execution_count": 3,
      "outputs": [
        {
          "output_type": "stream",
          "name": "stdout",
          "text": [
            "<re.Match object; span=(0, 1), match='g'>\n"
          ]
        }
      ]
    },
    {
      "cell_type": "code",
      "source": [
        "match = re.search(r'\\.',s)\n",
        "print(match)"
      ],
      "metadata": {
        "colab": {
          "base_uri": "https://localhost:8080/"
        },
        "id": "IzhZSrJHqx_l",
        "outputId": "c285687e-749e-407b-ce2f-f7201c9231bc"
      },
      "execution_count": 4,
      "outputs": [
        {
          "output_type": "stream",
          "name": "stdout",
          "text": [
            "None\n"
          ]
        }
      ]
    },
    {
      "cell_type": "code",
      "source": [
        "\n",
        "string = \"The quick brown fox jumps over the lazy dog\"\n",
        "pattern = \"[a-m]\"\n",
        "result = re.findall(pattern, string)\n",
        "print(result)"
      ],
      "metadata": {
        "colab": {
          "base_uri": "https://localhost:8080/"
        },
        "id": "_YtcqMLgrEBo",
        "outputId": "9dddb4eb-a896-44b8-f352-51966cb2ddb9"
      },
      "execution_count": 5,
      "outputs": [
        {
          "output_type": "stream",
          "name": "stdout",
          "text": [
            "['h', 'e', 'i', 'c', 'k', 'b', 'f', 'j', 'm', 'e', 'h', 'e', 'l', 'a', 'd', 'g']\n"
          ]
        }
      ]
    },
    {
      "cell_type": "code",
      "source": [
        "regex = r'^The'\n",
        "strings = ['The quick brown fox', 'The lazy dog', 'A quick brown fox']\n",
        "for string in strings:\n",
        "  if re.match(regex, string):\n",
        "    print(f'Matched: {string}')\n",
        "  else:\n",
        "    print(f'Not matched: {string}')\n"
      ],
      "metadata": {
        "colab": {
          "base_uri": "https://localhost:8080/"
        },
        "id": "a583W8aJrgXX",
        "outputId": "c30dfd96-ea21-4f8a-fc1c-40932368b33e"
      },
      "execution_count": 6,
      "outputs": [
        {
          "output_type": "stream",
          "name": "stdout",
          "text": [
            "Matched: The quick brown fox\n",
            "Matched: The lazy dog\n",
            "Not matched: A quick brown fox\n"
          ]
        }
      ]
    },
    {
      "cell_type": "code",
      "source": [
        "pattern = r\"fox$\"\n",
        "match = re.search(pattern, string)\n",
        "if match:\n",
        "  print('Match found')\n",
        "else:\n",
        "  print('match not found!')\n"
      ],
      "metadata": {
        "colab": {
          "base_uri": "https://localhost:8080/"
        },
        "id": "DOGODgD6sGLi",
        "outputId": "c76f6321-f9e9-4ce0-bfa4-c7be5a5a6349"
      },
      "execution_count": 7,
      "outputs": [
        {
          "output_type": "stream",
          "name": "stdout",
          "text": [
            "Match found\n"
          ]
        }
      ]
    },
    {
      "cell_type": "code",
      "source": [],
      "metadata": {
        "id": "xC29ITGmslwu"
      },
      "execution_count": null,
      "outputs": []
    }
  ]
}